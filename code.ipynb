{
 "cells": [
  {
   "cell_type": "code",
   "execution_count": 19,
   "metadata": {},
   "outputs": [
    {
     "name": "stdout",
     "output_type": "stream",
     "text": [
      "Page 1:\n",
      "\n",
      "--------------------------------------------------\n",
      "Page 2:\n",
      "\n",
      "--------------------------------------------------\n",
      "Page 3:\n",
      "\n",
      "--------------------------------------------------\n",
      "Page 4:\n",
      "\n",
      "--------------------------------------------------\n"
     ]
    }
   ],
   "source": [
    "\n",
    "\n",
    "import PyPDF2\n",
    "\n",
    "# Open the PDF file in 'rb' mode (read binary)\n",
    "with open('./practice-files/PPF for Above RM20,000-BLUE.pdf', 'rb') as file:\n",
    "        # Create a PDF reader object\n",
    "    pdf_reader = PyPDF2.PdfReader(file)\n",
    "    \n",
    "    # Get the total number of pages in the PDF\n",
    "    num_pages = len(pdf_reader.pages)\n",
    "    \n",
    "    # Loop through each page and extract the text\n",
    "    for page_num in range(num_pages):\n",
    "        # Get the page object\n",
    "        page = pdf_reader.pages[page_num]\n",
    "        \n",
    "        # Extract the text from the page\n",
    "        text = page.extract_text()\n",
    "        \n",
    "        # Print the extracted text\n",
    "        print(f\"Page {page_num+1}:\")\n",
    "        print(text)\n",
    "        print('-' * 50)"
   ]
  },
  {
   "cell_type": "code",
   "execution_count": 62,
   "metadata": {},
   "outputs": [
    {
     "name": "stdout",
     "output_type": "stream",
     "text": [
      "{'/Annots': [IndirectObject(26, 0, 2545599833744)], '/Contents': IndirectObject(5, 0, 2545599833744), '/MediaBox': [0, 0, 841.92, 595.2], '/Parent': IndirectObject(1, 0, 2545599833744), '/Resources': IndirectObject(7, 0, 2545599833744), '/Rotate': 270, '/Type': '/Page'}\n",
      "{'/Contents': IndirectObject(10, 0, 2545599833744), '/MediaBox': [0, 0, 841.92, 595.2], '/Parent': IndirectObject(1, 0, 2545599833744), '/Resources': IndirectObject(12, 0, 2545599833744), '/Rotate': 270, '/Type': '/Page'}\n",
      "{'/Contents': IndirectObject(15, 0, 2545599833744), '/MediaBox': [0, 0, 841.92, 595.2], '/Parent': IndirectObject(1, 0, 2545599833744), '/Resources': IndirectObject(17, 0, 2545599833744), '/Rotate': 270, '/Type': '/Page'}\n",
      "{'/Contents': IndirectObject(20, 0, 2545599833744), '/MediaBox': [0, 0, 841.92, 595.2], '/Parent': IndirectObject(1, 0, 2545599833744), '/Resources': IndirectObject(22, 0, 2545599833744), '/Rotate': 270, '/Type': '/Page'}\n",
      "{'/Type': '/Page', '/Resources': {}, '/MediaBox': [0, 0, 210, 297], '/Parent': IndirectObject(1, 0, 2545581338272)}\n"
     ]
    }
   ],
   "source": [
    "from pypdf import PdfReader, PdfWriter \n",
    "\n",
    "def create_pdf(filename):\n",
    "    writer = PdfWriter()\n",
    "    writer.add_blank_page(210,297)\n",
    "\n",
    "    with open(filename,'wb') as file:\n",
    "        writer.write(filename)\n",
    "\n",
    "\n",
    "def modify_pdf(filename):\n",
    "    writer = PdfWriter()\n",
    "    reader = PdfReader(filename)\n",
    "    print(reader.pages[0])\n",
    "    print(reader.pages[1])\n",
    "    print(reader.pages[2])\n",
    "    print(reader.pages[3])\n",
    "    return page\n",
    "\n",
    "# create_pdf('new_pdf.pdf')\n",
    "# print(modify_pdf('./practice-files/PPF for Below RM1,000-YELLOW.pdf'))\n",
    "print(modify_pdf('./a.pdf'))\n",
    "\n",
    "\n"
   ]
  },
  {
   "cell_type": "code",
   "execution_count": 67,
   "metadata": {},
   "outputs": [
    {
     "name": "stdout",
     "output_type": "stream",
     "text": [
      "Content of Page 1:\n",
      "<Page:1>\n",
      "Content of Page 2:\n",
      "<Page:2>\n",
      "Content of Page 3:\n",
      "<Page:3>\n",
      "Content of Page 4:\n",
      "<Page:4>\n"
     ]
    }
   ],
   "source": [
    "import pdfplumber\n",
    "\n",
    "def modify_pdf(filename):\n",
    "    with pdfplumber.open(filename) as pdf:\n",
    "        for i, page in enumerate(pdf.pages):\n",
    "            print(f\"Content of Page {i+1}:\")\n",
    "            print(page)\n",
    "\n",
    "modify_pdf('./practice-files/PPF for Below RM1,000-YELLOW.pdf')"
   ]
  }
 ],
 "metadata": {
  "kernelspec": {
   "display_name": "morphem",
   "language": "python",
   "name": "python3"
  },
  "language_info": {
   "codemirror_mode": {
    "name": "ipython",
    "version": 3
   },
   "file_extension": ".py",
   "mimetype": "text/x-python",
   "name": "python",
   "nbconvert_exporter": "python",
   "pygments_lexer": "ipython3",
   "version": "3.12.3"
  }
 },
 "nbformat": 4,
 "nbformat_minor": 2
}
